{
    "cells": [
        {
            "cell_type": "markdown",
            "metadata": {},
            "source": [
                "# Introdução\n",
                "\n",
                "Este documento apresenta a dedução e aplicação do estimador para o parâmetro da distribuição uniforme discreta obtido pelo **método dos momentos (MM)**. \n",
                "\n",
                "O objetivo é avaliar o desempenho desse estimador por meio de simulações no software R, observando métricas como **viés**, **erro quadrático médio (REQM)** e a **distribuição das estimativas**.\n",
                "\n",
                "A distribuição uniforme discreta considerada possui suporte em $\\{1, 2, ..., \\theta\\}$, sendo $\\theta$ o parâmetro a ser estimado a partir de amostras geradas artificialmente.\n",
                "\n",
                "Este estudo foi desenvolvido como parte de um trabalho acadêmico para a disciplina de **Estatística II**, com o propósito de explorar métodos clássicos de estimação e validar seus comportamentos via simulação computacional.\n",
                "\n",
                "\n",
                "\n",
                "## Estimador pelo Método dos Momentos\n",
                "\n",
                "Com base na definição de momento para a distribuição uniforme discreta, obtemos o seguinte estimador para o parâmetro $\\theta$:\n",
                "\n",
                "$$\n",
                "\\hat{\\theta}_{MM} \\rightarrow 2\\bar{X} - 1.\n",
                "$$\n",
                "\n",
                "Juntamente com o viés que:\n",
                "$$\n",
                "B(\\hat\\theta_{MM}) = 0.\n",
                "$$\n",
                "E o Erro Quadrático Médio (EQM):\n",
                "\n",
                "$$\n",
                "EQM(\\hat\\theta_{MM}) = \\frac{\\theta^2-1}{3n}\n",
                "$$\n",
                "\n",
                "Estes resultados foram deduzidos analiticamente e serão utilizados a seguir na simulação.\n",
                "\n",
                "# Simulação\n",
                "\n",
                "Instalando e carregando os pacotes necessários\n"
            ]
        },
        {
            "cell_type": "code",
            "execution_count": null,
            "metadata": {},
            "outputs": [],
            "source": [
                "if (!require(tidyverse)) install.packages('tidyverse')\n",
                "if (!require(purrr)) install.packages('purrr')\n",
                "if (!require(ggplot2)) install.packages('ggplot2')\n",
                "if (!require(cowplot)) install.packages('cowplot')\n",
                "\n",
                "\n",
                "library('tidyverse')\n",
                "library('purrr')\n",
                "library('ggplot2')\n",
                "library('cowplot')\n"
            ]
        },
        {
            "cell_type": "markdown",
            "metadata": {},
            "source": [
                "Vamos simular amostras da distribuição uniforme discreta e aplicar o estimador para verificar sua performance (viés e erro \n",
                "quadrático médio).\n"
            ]
        },
        {
            "cell_type": "code",
            "execution_count": null,
            "metadata": {},
            "outputs": [],
            "source": [
                "set.seed(123)\n",
                "\n",
                "n <- c(50,100,200,500,1000)\n",
                "REP <- 1000\n",
                "theta <- c(5,10,100)\n",
                "vicios <- erros <- teorico <- ic <- ics <- ampl <- c()\n",
                "l <- 0\n",
                "par(mfrow = c(2,3))\n",
                "tempo <- system.time({\n",
                "  for (j in theta) {\n",
                "    for (i in n) {\n",
                "      l <- l+1\n",
                "      amostra <- replicate(REP,rdunif(n = i, b = j))\n",
                "      media_amostra <- apply(amostra,2,mean)\n",
                "      estim <- 2*media_amostra-1\n",
                "      if (i == 50 | i == 1000) {\n",
                "        car::qqPlot(estim, main = paste('Dist. de $\\\\theta$ =',j,'\\n com tamanho = ',i), ylab = 'Estimador')\n",
                "        }\n",
                "      bias <- mean(estim) - j\n",
                "      REQM <- sd(estim)\n",
                "      vicios <- c(vicios,bias)\n",
                "      erros <- c(erros,REQM)\n",
                "      teorico <- c(teorico,sqrt((j^2-1)/(3*i)))\n",
                "      a1 <- round(mean(estim) - 1.96*mean(REQM),5)\n",
                "      a2 <- round(mean(estim) + 1.96*mean(REQM),5)\n",
                "      ampl <- round(c(ampl,a2-a1),5)\n",
                "      ic <- c(paste('[',a1,'; ',a2,']',sep = ''))\n",
                "      ics <- c(ics,ic)\n",
                "}\n",
                "    }\n",
                "  })\n"
            ]
        },
        {
            "cell_type": "markdown",
            "metadata": {},
            "source": [
                "Perceba que para qualquer $\\theta$, o estimador segue uma distribuição normal independente do número de amostras, isso nos garante que é possível construir intervalos de confiança para $\\hat\\theta$ utilizando a tabela de distribuição normal.\n",
                "\n",
                "Vamos entender como se comporta o Tamanho da Amostra em relação ao REQM\n"
            ]
        },
        {
            "cell_type": "code",
            "execution_count": null,
            "metadata": {},
            "outputs": [],
            "source": [
                "tempo2 <- system.time({\n",
                "    par(mfrow = c(1,1))\n",
                "  tema <- theme_set(theme_classic())\n",
                "  g1 <- ggplot() +\n",
                "    geom_point(mapping = aes(y = erros[1:5], x = n), size = 2) +\n",
                "    geom_smooth(mapping = aes(y = erros[1:5],x=n), linetype = 1, colour = 'black', linewidth = .75) +\n",
                "    labs(title = 'REQM de $\\\\theta$ = 5 em relação ao Tamanho da Amostra',\n",
                "         y = 'REQM',\n",
                "         x = 'Tamanho da Amostra') +\n",
                "      tema\n",
                "  g2 <- ggplot() +\n",
                "    geom_point(mapping = aes(y = erros[6:10], x = n), size = 2) +\n",
                "    geom_smooth(mapping = aes(y = erros[6:10],x=n), linetype = 1, colour = 'black', linewidth = .75) +\n",
                "    labs(title = 'REQM de $\\\\theta$ = 10 em relação ao Tamanho da Amostra', \n",
                "          y = 'REQM', \n",
                "          x = 'Tamanho da Amostra') +\n",
                "    tema\n",
                "  g3 <- ggplot() +\n",
                "    geom_point(mapping = aes(y = erros[11:15], x = n), size = 2) +\n",
                "    geom_smooth(mapping = aes(y = erros[11:15],x=n), linetype = 1, colour = 'black', linewidth = .75) +\n",
                "    labs(title = 'REQM de $\\\\theta$ = 100 em relação ao Tamanho da Amostra', \n",
                "                   y = 'REQM', \n",
                "                   x = 'Tamanho da Amostra') +\n",
                "    tema\n",
                "  theme_update(plot.title = element_text(hjust = 0.5))\n",
                "  print(plot_grid(g1,g2,g3))\n",
                "})\n"
            ]
        },
        {
            "cell_type": "markdown",
            "metadata": {},
            "source": [
                "O gráfico demonstra que a relação do REQM e o Tamanho da Amostra para cada $\\theta$ se comporta de maneira similar.\n",
                "\n"
            ]
        },
        {
            "cell_type": "code",
            "execution_count": null,
            "metadata": {},
            "outputs": [],
            "source": [
                "tempo2 + tempo\n",
                "\n"
            ]
        },
        {
            "cell_type": "markdown",
            "metadata": {},
            "source": [
                "O código levou 20 segundos para ser simulado.\n",
                "\n",
                "Analisando os resultados em tabelas\n"
            ]
        },
        {
            "cell_type": "code",
            "execution_count": null,
            "metadata": {},
            "outputs": [],
            "source": [
                "## TABELA DE VICIOS E ERROS\n",
                "\n",
                "tabela_vicio <- data.frame(\n",
                "  n_amostras = n,\n",
                "  vicio = vicios,\n",
                "  reqm = erros,\n",
                "  reqm_teo = teorico,\n",
                "  theta = rep(theta,5)\n",
                ")\n",
                "\n",
                "## TABELA DE ITNERVALO DE CONFIANCA\n",
                "\n",
                "tabela_confianca <- data.frame(\n",
                "  n_amostras = n,\n",
                "  intervalo = ics,\n",
                "  amplitude = ampl,\n",
                "  theta  = rep(theta,5)\n",
                ")\n",
                "\n",
                "## TABELA DE QUEDA PROPORCIONAL DO EQM\n",
                "\n",
                "tax_qued_reqm <- abs(c(round((erros[5]/erros[1]) -1,5)*100,\n",
                "              round((erros[10]/erros[6]) -1,5)*100,\n",
                "              round((erros[15]/erros[11]) -1,5)*100))\n",
                "\n",
                "tabela_queda <- data.frame(\n",
                "  taxa = tax_qued_reqm,\n",
                "  theta = theta\n",
                ")\n",
                "\n",
                "write.csv2(tabela_vicio, 'data/vies_mm.csv', row.names = F)\n",
                "write.csv2(tabela_confianca, 'data/confianca_mm.csv', row.names = F)\n",
                "write.csv2(tabela_queda, 'data/queda_mm.csv', row.names = F)\n"
            ]
        },
        {
            "cell_type": "markdown",
            "metadata": {},
            "source": [
                "\n",
                "\n"
            ]
        },
        {
            "cell_type": "code",
            "execution_count": null,
            "metadata": {},
            "outputs": [],
            "source": [
                "## FILTRANDO PELO TAMANHO DE THETA\n",
                "\n",
                "tabela_vicio |> \n",
                "  filter(theta == 5)\n",
                "tabela_vicio |> \n",
                "  filter(theta == 10)\n",
                "tabela_vicio |> \n",
                "  filter(theta == 100)\n"
            ]
        },
        {
            "cell_type": "markdown",
            "metadata": {},
            "source": [
                "É possível observar que o vício de cada $\\theta$ se aproxima de 0 quando o Número de Amostra aumenta, oque concorda com o viés calculado. Para o REQM, nota-se que o valor também diminui de acordo com o Número de Amostra, é possível analisar que o valor Teórico do REQM é bastante próximo dos valores simulados, nos dando certa garantia de que não houve erro nos cálculos e nem na simulação. Uma vez garantido a segurança entre os valores teóricos e os valores simulados, percebe-se que para cada valor $\\theta$ os valores das propriedades do estimador aumentam, em $\\theta = 100$ os valores do REQM se tornam absurdamente grandes. Analisando melhor, faz sentido que para $\\theta$ grande o REQM aumente, já que $\\theta$ é elevado ao quadrado no numerador.\n",
                "\n"
            ]
        },
        {
            "cell_type": "code",
            "execution_count": null,
            "metadata": {},
            "outputs": [],
            "source": [
                "tabela_confianca |> \n",
                "  filter(theta == 5)\n",
                "tabela_confianca |> \n",
                "  filter(theta == 10)\n",
                "tabela_confianca |> \n",
                "  filter(theta == 100)\n"
            ]
        },
        {
            "cell_type": "markdown",
            "metadata": {},
            "source": [
                "Perceba que a amplitude do intervalo de cada $\\theta$ diminui de acordo com o Número de Amostra, comprovando a acurácia do estimador, $\\theta = 100$ chama atenção novamente, pois apresenta intervalos muito grandes, porém como debatido anteriormente, é coerente que para $\\theta$ de ordem grande algumas propriedades tenham valores altos.\n",
                "\n"
            ]
        },
        {
            "cell_type": "code",
            "execution_count": null,
            "metadata": {},
            "outputs": [],
            "source": [
                "tabela_queda\n",
                "\n"
            ]
        },
        {
            "cell_type": "markdown",
            "metadata": {},
            "source": [
                "Certifica a afirmação de que o REQM tem uma taxa de queda ao longo do Tamanho da Amostra com cada valor de $\\theta$ bem próxima.\n",
                "\n",
                "# Análise dos Resultados – Método dos Momentos\n",
                "\n",
                "O estimador obtido pelo método dos momentos, $\\hat{n}_{MM} = 2\\bar{X} - 1$, apresentou desempenho razoável nas simulações, especialmente para tamanhos amostrais maiores.\n",
                "\n",
                "Através da análise do viés e do erro quadrático médio (REQM), observou-se que:\n",
                "\n",
                "- Para **n pequenos (ex: 10)** e **amostras pequenas (n = 5, 10)**, o estimador mostrou maior variação e tendência de subestimação.\n",
                "- À medida que o **tamanho da amostra aumenta**, o viés diminui, e o estimador se aproxima do valor real do parâmetro — um indicativo de **consistência**.\n",
                "- Os gráficos reforçam que a **distribuição das estimativas se estreita** conforme o tamanho da amostra aumenta, reduzindo a dispersão dos valores.\n",
                "\n",
                "Portanto, embora o estimador por MM não seja o mais eficiente estatisticamente, ele apresenta boa performance em situações com amostras maiores, sendo uma alternativa simples e válida em muitos contextos práticos.\n"
            ]
        }
    ],
    "metadata": {
        "anaconda-cloud": "",
        "kernelspec": {
            "display_name": "R",
            "langauge": "R",
            "name": "ir"
        },
        "language_info": {
            "codemirror_mode": "r",
            "file_extension": ".r",
            "mimetype": "text/x-r-source",
            "name": "R",
            "pygments_lexer": "r",
            "version": "3.4.1"
        }
    },
    "nbformat": 4,
    "nbformat_minor": 1
}
